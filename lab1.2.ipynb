{
 "cells": [
  {
   "cell_type": "code",
   "execution_count": 2,
   "id": "243040f9-8b04-42b2-abfb-85f3fbff46cd",
   "metadata": {},
   "outputs": [
    {
     "name": "stdout",
     "output_type": "stream",
     "text": [
      "1. наибольшее количество вагонов: 19\n",
      "   номер поезда: 206\n",
      "   дата отправления: 2023-11-18\n",
      "2. наибольшая вместимость вагонов: 950\n",
      "   номер поезда: 206\n",
      "   город отправления: Красноярск\n",
      "3. \t\n",
      "В стране Россия курcируют 12 поездов\n",
      "В стране Украина курcируют 2 поездов\n",
      "В стране США курcируют 2 поездов\n",
      "В стране Франция курcируют 2 поездов\n",
      "В стране Япония курcируют 2 поездов\n",
      "В стране Германия курcируют 2 поездов\n",
      "\t\n",
      "4. Среднее количество вагонов в России: 12.0\n",
      "\t\n",
      "5. Суммарная вметимость вагонов в России: 7100\n"
     ]
    }
   ],
   "source": [
    "data = \"data/trains_schedule.csv\"\n",
    "with open(data, 'r') as file:\n",
    "    read_data = file.read()\n",
    "trains_list = read_data.split('\\n')\n",
    "trains_list.pop(0)\n",
    "trains_list.pop(-1)\n",
    "max_number_of_cars = []\n",
    "max_car_capacity = []\n",
    "countries = []\n",
    "numbers = {}\n",
    "nums = {}\n",
    "n = []\n",
    "nums_of_cars = {}\n",
    "summ_nums_of_cars = []\n",
    "for trains in trains_list:\n",
    "    train = trains.split(',')\n",
    "    max_number_of_cars.append(int(train[-2]))\n",
    "    max_car_capacity.append(int(train[-1]))\n",
    "    if max(max_number_of_cars) == int(train[-2]):\n",
    "        max_number_of_cars_num = train[0]\n",
    "        max_number_of_cars_day = train[3]\n",
    "    if max(max_car_capacity) == int(train[-1]):\n",
    "        max_car_capacity_num = train[0]\n",
    "        max_car_capacity_city = train[1]\n",
    "    countries.append(train[-3])\n",
    "    country = set(countries)\n",
    "    for country in countries:\n",
    "        numbers[country] = countries.count(country) \n",
    "    for country in countries: \n",
    "        if country == train[-3]:\n",
    "            n.append(int(train[-2]))\n",
    "            nums[country] = n\n",
    "            summ_nums_of_cars.append(int(train[-1]))\n",
    "            nums_of_cars[country] = summ_nums_of_cars\n",
    "        break\n",
    "print(f\"1. наибольшее количество вагонов: {max(max_number_of_cars)}\\n   номер поезда: {max_number_of_cars_num}\\n   дата отправления: {max_number_of_cars_day}\")\n",
    "print(f\"2. наибольшая вместимость вагонов: {max(max_car_capacity)}\\n   номер поезда: {max_car_capacity_num}\\n   город отправления: {max_car_capacity_city}\")\n",
    "print('3. \\t')\n",
    "for strana in numbers:\n",
    "    print(f\"В стране {strana} курcируют {numbers[strana]} поездов\")\n",
    "print('\\t')\n",
    "sr = round(sum(nums[\"Россия\"])/len(nums[\"Россия\"]), 0)\n",
    "print(f\"4. Среднее количество вагонов в России: {sr}\")\n",
    "print('\\t')\n",
    "sr_nums = sum(nums_of_cars[\"Россия\"])\n",
    "print(f\"5. Суммарная вметимость вагонов в России: {sr_nums}\")\n",
    "\n",
    "with open('results.txt', 'w') as f:\n",
    "  f.write(f\"{max_number_of_cars_num},{max_number_of_cars_day}\\n\")  \n",
    "  f.write(f\"{max_car_capacity_num},{max_car_capacity_city}\\n\")\n",
    "  f.write(f\"{numbers}\\n\")\n",
    "  f.write(f\"{sr}\\n\")\n",
    "  f.write(f\"{sr_nums}\")\n"
   ]
  }
 ],
 "metadata": {
  "kernelspec": {
   "display_name": "Python 3 (ipykernel)",
   "language": "python",
   "name": "python3"
  },
  "language_info": {
   "codemirror_mode": {
    "name": "ipython",
    "version": 3
   },
   "file_extension": ".py",
   "mimetype": "text/x-python",
   "name": "python",
   "nbconvert_exporter": "python",
   "pygments_lexer": "ipython3",
   "version": "3.9.13"
  }
 },
 "nbformat": 4,
 "nbformat_minor": 5
}
